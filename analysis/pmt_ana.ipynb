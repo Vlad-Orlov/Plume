{
 "cells": [
  {
   "cell_type": "code",
   "execution_count": 1,
   "metadata": {},
   "outputs": [],
   "source": [
    "gROOT->Reset();"
   ]
  },
  {
   "cell_type": "code",
   "execution_count": 2,
   "metadata": {},
   "outputs": [],
   "source": [
    "TFile* f_al = new TFile(\"histos.root\");\n",
    "\n",
    "TH1D* h_and = (TH1D*)f_al->Get(\"HitNumber_AND\");\n",
    "TH1D* h_or = (TH1D*)f_al->Get(\"HitNumber_OR\");\n",
    "TH1D* h_first = (TH1D*)f_al->Get(\"HitNumber_FIRST\");"
   ]
  },
  {
   "cell_type": "code",
   "execution_count": 3,
   "metadata": {},
   "outputs": [],
   "source": [
    "h_and->SetLineColor(kBlue);\n",
    "h_or->SetLineColor(kRed);\n",
    "h_first->SetLineColor(kMagenta);"
   ]
  },
  {
   "cell_type": "code",
   "execution_count": 4,
   "metadata": {},
   "outputs": [],
   "source": [
    "h_and->Scale(1./h_and->GetEntries());\n",
    "h_or->Scale(1./h_or->GetEntries());\n",
    "h_first->Scale(1./h_first->GetEntries());"
   ]
  },
  {
   "cell_type": "code",
   "execution_count": 5,
   "metadata": {},
   "outputs": [],
   "source": [
    "Double_t occ_and = h_and->GetBinContent(2);\n",
    "Double_t occ_or = h_or->GetBinContent(2) ;\n",
    "Double_t occ_first = h_first->GetBinContent(2);"
   ]
  },
  {
   "cell_type": "code",
   "execution_count": 6,
   "metadata": {},
   "outputs": [],
   "source": [
    "TCanvas *c = new TCanvas(\"c\",\"c\",1920,1080);"
   ]
  },
  {
   "cell_type": "code",
   "execution_count": 7,
   "metadata": {},
   "outputs": [],
   "source": [
    "h_and->Draw();\n",
    "h_or->Draw(\"SAME\");\n",
    "h_first->Draw(\"SAME\");"
   ]
  },
  {
   "cell_type": "code",
   "execution_count": 8,
   "metadata": {},
   "outputs": [],
   "source": [
    "TLegend *l = new TLegend(0.65,0.75,0.9,0.9);\n",
    "l->SetHeader(\"20 sectors, 6 cm from BP\", \"c\");\n",
    "l->AddEntry(h_and, TString(\"AND (\" + std::to_string(occ_and) + \")\" ) );\n",
    "l->AddEntry(h_or, TString(\"OR (\" + std::to_string(occ_or) + \")\"));\n",
    "l->AddEntry(h_first, TString(\"First layer only (\" + std::to_string(occ_first) + \")\") );\n",
    "l->Draw();\n",
    "\n",
    "\n",
    "// TLegend *l = new TLegend(0.65,0.75,0.9,0.9);\n",
    "// l->SetHeader(\"20 sectors, 6 cm from BP\", \"c\");\n",
    "// l->AddEntry(h_and, \"AND\" );\n",
    "// l->AddEntry(h_or, \"OR\");\n",
    "// l->AddEntry(h_first, \"First layer only\");\n",
    "// l->Draw();\n"
   ]
  },
  {
   "cell_type": "code",
   "execution_count": 9,
   "metadata": {},
   "outputs": [
    {
     "name": "stderr",
     "output_type": "stream",
     "text": [
      "Info in <TCanvas::Print>: png file comparison.png has been created\n"
     ]
    }
   ],
   "source": [
    "gStyle->SetOptStat(0);\n",
    "gStyle->SetOptTitle(0);\n",
    "\n",
    "c->SaveAs(\"comparison.png\");"
   ]
  },
  {
   "cell_type": "code",
   "execution_count": null,
   "metadata": {},
   "outputs": [],
   "source": []
  },
  {
   "cell_type": "code",
   "execution_count": null,
   "metadata": {},
   "outputs": [],
   "source": []
  }
 ],
 "metadata": {
  "kernelspec": {
   "display_name": "ROOT C++",
   "language": "c++",
   "name": "root"
  },
  "language_info": {
   "codemirror_mode": "text/x-c++src",
   "file_extension": ".C",
   "mimetype": " text/x-c++src",
   "name": "c++"
  }
 },
 "nbformat": 4,
 "nbformat_minor": 4
}
